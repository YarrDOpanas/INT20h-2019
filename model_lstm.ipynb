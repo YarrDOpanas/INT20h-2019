{
 "cells": [
  {
   "cell_type": "code",
   "execution_count": 1,
   "metadata": {},
   "outputs": [
    {
     "name": "stderr",
     "output_type": "stream",
     "text": [
      "Using TensorFlow backend.\n"
     ]
    }
   ],
   "source": [
    "import math\n",
    "from keras.models import Sequential\n",
    "from keras.layers import Dense\n",
    "from keras.layers import LSTM\n",
    "from sklearn.preprocessing import MinMaxScaler\n",
    "from sklearn.metrics import mean_squared_error\n",
    "import pandas as pd\n",
    "from keras.models import load_model\n",
    "import numpy as np"
   ]
  },
  {
   "cell_type": "code",
   "execution_count": null,
   "metadata": {},
   "outputs": [],
   "source": [
    "def create_dataset(dataset, window_size = 169):\n",
    "    data_X, data_Y = [], []\n",
    "    for i in range(len(dataset) - window_size - 1):\n",
    "        a = dataset[i:(i + window_size), 0]\n",
    "        data_X.append(a)\n",
    "        data_Y.append(dataset[i + window_size, 0])\n",
    "    return(np.array(data_X), np.array(data_Y))"
   ]
  },
  {
   "cell_type": "code",
   "execution_count": null,
   "metadata": {},
   "outputs": [],
   "source": [
    "def fit_model(train_X, train_Y, window_size = 169):\n",
    "    model = Sequential()\n",
    "    \n",
    "    model.add(LSTM(4, \n",
    "                   input_shape = (1, window_size)))\n",
    "    model.add(Dense(1))\n",
    "    model.compile(loss = \"mean_squared_error\", \n",
    "                  optimizer = \"adam\")\n",
    "    model.fit(train_X, \n",
    "              train_Y, \n",
    "              epochs = 100, \n",
    "              batch_size = 1, \n",
    "              verbose = 2)\n",
    "    \n",
    "    return(model)"
   ]
  },
  {
   "cell_type": "code",
   "execution_count": null,
   "metadata": {},
   "outputs": [],
   "source": [
    "rmse = []\n",
    "\n",
    "for i in range(100):\n",
    "    my_data = pd.DataFrame(new_cluster[i]).reset_index()\n",
    "    data_raw = my_data['freq'].values.astype('float32').reshape(-1,1)\n",
    "    scaler = MinMaxScaler(feature_range = (0, 1))\n",
    "    dataset = scaler.fit_transform(data_raw)\n",
    "    \n",
    "    # Create test and training sets for one-step-ahead regression.\n",
    "    window_size = 169\n",
    "    test = dataset[-338:]\n",
    "    train = dataset[:-338]\n",
    "    train_X, train_Y = create_dataset(train, window_size)\n",
    "    test_X, test_Y = create_dataset(test, window_size)\n",
    "    print(\"Original training data shape:\")\n",
    "    print(train_X.shape)\n",
    "\n",
    "    # Reshape the input data into appropriate form for Keras.\n",
    "    train_X = np.reshape(train_X, (train_X.shape[0], 1, train_X.shape[1]))\n",
    "    test_X = np.reshape(test_X, (test_X.shape[0], 1, test_X.shape[1]))\n",
    "    print('model :'+str(i))\n",
    "    print(\"New training data shape \"+str(i)+':')\n",
    "    print(train_X.shape)\n",
    "    print('__________')\n",
    "    \n",
    "    model1 = fit_model(train_X, train_Y, window_size)\n",
    "    \n",
    "    model.save('my_model_'+str(i)+'.h5')  # creates a HDF5 file 'my_model.h5'\n",
    "    \n",
    "    rmse_train, train_predict = predict_and_score(model1, train_X, train_Y)\n",
    "    rmse_test, test_predict = predict_and_score(model1, test_X, test_Y)\n",
    "    \n",
    "    rmse.append(rmse_test)\n",
    "    \n",
    "    print(\"Training data score: %.2f RMSE\" % rmse_train)\n",
    "    print(\"Test data score: %.2f RMSE\" % rmse_test)\n"
   ]
  }
 ],
 "metadata": {
  "kernelspec": {
   "display_name": "Python 3",
   "language": "python",
   "name": "python3"
  },
  "language_info": {
   "codemirror_mode": {
    "name": "ipython",
    "version": 3
   },
   "file_extension": ".py",
   "mimetype": "text/x-python",
   "name": "python",
   "nbconvert_exporter": "python",
   "pygments_lexer": "ipython3",
   "version": "3.6.5"
  }
 },
 "nbformat": 4,
 "nbformat_minor": 2
}
